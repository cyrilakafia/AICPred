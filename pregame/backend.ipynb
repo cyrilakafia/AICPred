{
 "cells": [
  {
   "cell_type": "code",
   "execution_count": 113,
   "metadata": {},
   "outputs": [],
   "source": [
    "# import packages\n",
    "import pickle \n",
    "import numpy as np\n",
    "import pandas as pd\n",
    "\n",
    "from Mold2_pywrapper import Mold2\n",
    "from rdkit import Chem"
   ]
  },
  {
   "cell_type": "code",
   "execution_count": 114,
   "metadata": {},
   "outputs": [
    {
     "name": "stdout",
     "output_type": "stream",
     "text": [
      "1.6.2\n"
     ]
    }
   ],
   "source": [
    "# check xgboost version to make sure it is 1.6.2 to be able to lead the model\n",
    "\n",
    "import xgboost as xgb\n",
    "\n",
    "print(xgb.__version__)"
   ]
  },
  {
   "cell_type": "code",
   "execution_count": 118,
   "metadata": {},
   "outputs": [],
   "source": [
    "def load_model(model):\n",
    "    '''Function to load the model'''\n",
    "    with open(model, 'rb') as file:\n",
    "        model = pickle.load(file)\n",
    "    return model"
   ]
  },
  {
   "cell_type": "code",
   "execution_count": 123,
   "metadata": {},
   "outputs": [],
   "source": [
    "def load_mask(mask):\n",
    "    '''Function to load the variance threshold mask'''\n",
    "    with open(mask, 'rb') as file:\n",
    "        mask = pickle.load(file)\n",
    "    return mask"
   ]
  },
  {
   "cell_type": "code",
   "execution_count": 124,
   "metadata": {},
   "outputs": [],
   "source": [
    "# load model\n",
    "model = load_model('pkl/classifier1')\n",
    "\n",
    "# load mask\n",
    "mask = load_mask('pkl/mask1')"
   ]
  },
  {
   "cell_type": "code",
   "execution_count": 125,
   "metadata": {},
   "outputs": [
    {
     "name": "stdout",
     "output_type": "stream",
     "text": [
      "(2, 777)\n",
      "(2, 645)\n"
     ]
    }
   ],
   "source": [
    "# load sample data\n",
    "df = pd.read_csv(\"sample.csv\")\n",
    "print(df.shape)\n",
    "\n",
    "# apply mask to sample data\n",
    "df = df.loc[:, mask]\n",
    "\n",
    "print(df.shape)"
   ]
  },
  {
   "cell_type": "code",
   "execution_count": 126,
   "metadata": {},
   "outputs": [
    {
     "name": "stdout",
     "output_type": "stream",
     "text": [
      "[1 1]\n"
     ]
    }
   ],
   "source": [
    "pred = model.predict(df)\n",
    "print(pred)"
   ]
  },
  {
   "attachments": {},
   "cell_type": "markdown",
   "metadata": {},
   "source": [
    "## Wrapper Accuracy/Precision Check  \n",
    "\n",
    "Can we use the wrapper instead of the command line tool (gui)?  \n",
    "Based on the experiments below, Yes We Can. The wrappers outputs are basically the same as the gui outputs."
   ]
  },
  {
   "cell_type": "code",
   "execution_count": 141,
   "metadata": {},
   "outputs": [
    {
     "data": {
      "text/html": [
       "<div>\n",
       "<style scoped>\n",
       "    .dataframe tbody tr th:only-of-type {\n",
       "        vertical-align: middle;\n",
       "    }\n",
       "\n",
       "    .dataframe tbody tr th {\n",
       "        vertical-align: top;\n",
       "    }\n",
       "\n",
       "    .dataframe thead th {\n",
       "        text-align: right;\n",
       "    }\n",
       "</style>\n",
       "<table border=\"1\" class=\"dataframe\">\n",
       "  <thead>\n",
       "    <tr style=\"text-align: right;\">\n",
       "      <th></th>\n",
       "      <th>D001</th>\n",
       "      <th>D002</th>\n",
       "      <th>D003</th>\n",
       "      <th>D004</th>\n",
       "      <th>D005</th>\n",
       "      <th>D006</th>\n",
       "      <th>D007</th>\n",
       "      <th>D008</th>\n",
       "      <th>D009</th>\n",
       "      <th>D010</th>\n",
       "      <th>...</th>\n",
       "      <th>D768</th>\n",
       "      <th>D769</th>\n",
       "      <th>D770</th>\n",
       "      <th>D771</th>\n",
       "      <th>D772</th>\n",
       "      <th>D773</th>\n",
       "      <th>D774</th>\n",
       "      <th>D775</th>\n",
       "      <th>D776</th>\n",
       "      <th>D777</th>\n",
       "    </tr>\n",
       "  </thead>\n",
       "  <tbody>\n",
       "    <tr>\n",
       "      <th>0</th>\n",
       "      <td>1</td>\n",
       "      <td>0</td>\n",
       "      <td>0</td>\n",
       "      <td>0</td>\n",
       "      <td>1</td>\n",
       "      <td>0</td>\n",
       "      <td>0</td>\n",
       "      <td>0</td>\n",
       "      <td>0</td>\n",
       "      <td>0</td>\n",
       "      <td>...</td>\n",
       "      <td>0</td>\n",
       "      <td>0</td>\n",
       "      <td>0</td>\n",
       "      <td>0</td>\n",
       "      <td>0</td>\n",
       "      <td>0</td>\n",
       "      <td>3.90689</td>\n",
       "      <td>-0.108058</td>\n",
       "      <td>0.545455</td>\n",
       "      <td>1.05973</td>\n",
       "    </tr>\n",
       "    <tr>\n",
       "      <th>1</th>\n",
       "      <td>0</td>\n",
       "      <td>0</td>\n",
       "      <td>0</td>\n",
       "      <td>1</td>\n",
       "      <td>0</td>\n",
       "      <td>0</td>\n",
       "      <td>0</td>\n",
       "      <td>0</td>\n",
       "      <td>0</td>\n",
       "      <td>0</td>\n",
       "      <td>...</td>\n",
       "      <td>0</td>\n",
       "      <td>0</td>\n",
       "      <td>0</td>\n",
       "      <td>0</td>\n",
       "      <td>0</td>\n",
       "      <td>0</td>\n",
       "      <td>3.80735</td>\n",
       "      <td>2.71667</td>\n",
       "      <td>0</td>\n",
       "      <td>-2.73537</td>\n",
       "    </tr>\n",
       "  </tbody>\n",
       "</table>\n",
       "<p>2 rows × 777 columns</p>\n",
       "</div>"
      ],
      "text/plain": [
       "0 D001 D002 D003 D004 D005 D006 D007 D008 D009 D010  ... D768 D769 D770 D771  \\\n",
       "0    1    0    0    0    1    0    0    0    0    0  ...    0    0    0    0   \n",
       "1    0    0    0    1    0    0    0    0    0    0  ...    0    0    0    0   \n",
       "\n",
       "0 D772 D773     D774       D775      D776      D777  \n",
       "0    0    0  3.90689  -0.108058  0.545455   1.05973  \n",
       "1    0    0  3.80735    2.71667         0  -2.73537  \n",
       "\n",
       "[2 rows x 777 columns]"
      ]
     },
     "execution_count": 141,
     "metadata": {},
     "output_type": "execute_result"
    }
   ],
   "source": [
    "smiles_list = ['CC(=O)NC1=CC=C(C=C1)O', 'C(C(C1C(=C(C(=O)O1)O)O)O)O']\n",
    "\n",
    "mols = [Chem.MolFromSmiles(smiles) for smiles in smiles_list]\n",
    "\n",
    "mold2 = Mold2()\n",
    "mold2.calculate(mols, show_banner=False)\n",
    "\n",
    "# returns a dataframe "
   ]
  },
  {
   "attachments": {},
   "cell_type": "markdown",
   "metadata": {},
   "source": [
    "Instantiating a Mold2 object ensures that the executables for your platform are accessible. If this is not the case, an attempt to download them from the website of the FDA is made.\n",
    "\n",
    "Should one have downloaded the original ZIP file available from the website of the FDA, the executables can be installed using the following:"
   ]
  },
  {
   "cell_type": "code",
   "execution_count": 151,
   "metadata": {},
   "outputs": [],
   "source": [
    "# path_to_zipfile = '...'  # Replace by the path to the ZIP file on your machine\n",
    "# mold2 = Mold2.from_executable(path_to_zipfile)\n",
    "# print(mold2.calculate(mols))"
   ]
  },
  {
   "attachments": {},
   "cell_type": "markdown",
   "metadata": {},
   "source": [
    "Executables will be installed for future use. From then on, default instanciation may be carried out"
   ]
  },
  {
   "cell_type": "code",
   "execution_count": 152,
   "metadata": {},
   "outputs": [],
   "source": [
    "mold2 = Mold2()\n",
    "results = mold2.calculate(mols, show_banner=False)"
   ]
  },
  {
   "cell_type": "code",
   "execution_count": 153,
   "metadata": {},
   "outputs": [
    {
     "data": {
      "text/html": [
       "<div>\n",
       "<style scoped>\n",
       "    .dataframe tbody tr th:only-of-type {\n",
       "        vertical-align: middle;\n",
       "    }\n",
       "\n",
       "    .dataframe tbody tr th {\n",
       "        vertical-align: top;\n",
       "    }\n",
       "\n",
       "    .dataframe thead th {\n",
       "        text-align: right;\n",
       "    }\n",
       "</style>\n",
       "<table border=\"1\" class=\"dataframe\">\n",
       "  <thead>\n",
       "    <tr style=\"text-align: right;\">\n",
       "      <th></th>\n",
       "      <th>D001</th>\n",
       "      <th>D002</th>\n",
       "      <th>D003</th>\n",
       "      <th>D004</th>\n",
       "      <th>D005</th>\n",
       "      <th>D006</th>\n",
       "      <th>D007</th>\n",
       "      <th>D008</th>\n",
       "      <th>D009</th>\n",
       "      <th>D010</th>\n",
       "      <th>...</th>\n",
       "      <th>D768</th>\n",
       "      <th>D769</th>\n",
       "      <th>D770</th>\n",
       "      <th>D771</th>\n",
       "      <th>D772</th>\n",
       "      <th>D773</th>\n",
       "      <th>D774</th>\n",
       "      <th>D775</th>\n",
       "      <th>D776</th>\n",
       "      <th>D777</th>\n",
       "    </tr>\n",
       "  </thead>\n",
       "  <tbody>\n",
       "    <tr>\n",
       "      <th>0</th>\n",
       "      <td>1.0</td>\n",
       "      <td>0.0</td>\n",
       "      <td>0.0</td>\n",
       "      <td>0.0</td>\n",
       "      <td>1.0</td>\n",
       "      <td>0.0</td>\n",
       "      <td>0.0</td>\n",
       "      <td>0.0</td>\n",
       "      <td>0.0</td>\n",
       "      <td>0.0</td>\n",
       "      <td>...</td>\n",
       "      <td>0.0</td>\n",
       "      <td>0.0</td>\n",
       "      <td>0.0</td>\n",
       "      <td>0.0</td>\n",
       "      <td>0.0</td>\n",
       "      <td>0.0</td>\n",
       "      <td>3.907</td>\n",
       "      <td>-0.108</td>\n",
       "      <td>0.545</td>\n",
       "      <td>1.060</td>\n",
       "    </tr>\n",
       "    <tr>\n",
       "      <th>1</th>\n",
       "      <td>0.0</td>\n",
       "      <td>0.0</td>\n",
       "      <td>0.0</td>\n",
       "      <td>1.0</td>\n",
       "      <td>0.0</td>\n",
       "      <td>0.0</td>\n",
       "      <td>0.0</td>\n",
       "      <td>0.0</td>\n",
       "      <td>0.0</td>\n",
       "      <td>0.0</td>\n",
       "      <td>...</td>\n",
       "      <td>0.0</td>\n",
       "      <td>0.0</td>\n",
       "      <td>0.0</td>\n",
       "      <td>0.0</td>\n",
       "      <td>0.0</td>\n",
       "      <td>0.0</td>\n",
       "      <td>3.807</td>\n",
       "      <td>2.717</td>\n",
       "      <td>0.000</td>\n",
       "      <td>-2.735</td>\n",
       "    </tr>\n",
       "  </tbody>\n",
       "</table>\n",
       "<p>2 rows × 777 columns</p>\n",
       "</div>"
      ],
      "text/plain": [
       "0  D001  D002  D003  D004  D005  D006  D007  D008  D009  D010  ...  D768  \\\n",
       "0   1.0   0.0   0.0   0.0   1.0   0.0   0.0   0.0   0.0   0.0  ...   0.0   \n",
       "1   0.0   0.0   0.0   1.0   0.0   0.0   0.0   0.0   0.0   0.0  ...   0.0   \n",
       "\n",
       "0  D769  D770  D771  D772  D773   D774   D775   D776   D777  \n",
       "0   0.0   0.0   0.0   0.0   0.0  3.907 -0.108  0.545  1.060  \n",
       "1   0.0   0.0   0.0   0.0   0.0  3.807  2.717  0.000 -2.735  \n",
       "\n",
       "[2 rows x 777 columns]"
      ]
     },
     "execution_count": 153,
     "metadata": {},
     "output_type": "execute_result"
    }
   ],
   "source": [
    "# convert to float\n",
    "results = results.astype(float)\n",
    "\n",
    "# convert to 3 decimal places\n",
    "results = results.round(3)\n",
    "results"
   ]
  },
  {
   "cell_type": "code",
   "execution_count": 154,
   "metadata": {},
   "outputs": [
    {
     "data": {
      "text/plain": [
       "False"
      ]
     },
     "execution_count": 154,
     "metadata": {},
     "output_type": "execute_result"
    }
   ],
   "source": [
    "# check for NaN values\n",
    "results.isnull().values.any()"
   ]
  },
  {
   "attachments": {},
   "cell_type": "markdown",
   "metadata": {},
   "source": [
    "So I'm thinking when setting it up on a server, I can just run the above code to install the executables and leave it on the server. Then when I run the code to generate the descriptors, it will use the executables that are already installed."
   ]
  },
  {
   "cell_type": "code",
   "execution_count": 155,
   "metadata": {},
   "outputs": [],
   "source": [
    "results.to_csv('desc/wrapper_output.csv', index=False)"
   ]
  },
  {
   "cell_type": "code",
   "execution_count": 156,
   "metadata": {},
   "outputs": [
    {
     "data": {
      "text/html": [
       "<div>\n",
       "<style scoped>\n",
       "    .dataframe tbody tr th:only-of-type {\n",
       "        vertical-align: middle;\n",
       "    }\n",
       "\n",
       "    .dataframe tbody tr th {\n",
       "        vertical-align: top;\n",
       "    }\n",
       "\n",
       "    .dataframe thead th {\n",
       "        text-align: right;\n",
       "    }\n",
       "</style>\n",
       "<table border=\"1\" class=\"dataframe\">\n",
       "  <thead>\n",
       "    <tr style=\"text-align: right;\">\n",
       "      <th></th>\n",
       "      <th>D001</th>\n",
       "      <th>D002</th>\n",
       "      <th>D003</th>\n",
       "      <th>D004</th>\n",
       "      <th>D005</th>\n",
       "      <th>D006</th>\n",
       "      <th>D007</th>\n",
       "      <th>D008</th>\n",
       "      <th>D009</th>\n",
       "      <th>D010</th>\n",
       "      <th>...</th>\n",
       "      <th>D768</th>\n",
       "      <th>D769</th>\n",
       "      <th>D770</th>\n",
       "      <th>D771</th>\n",
       "      <th>D772</th>\n",
       "      <th>D773</th>\n",
       "      <th>D774</th>\n",
       "      <th>D775</th>\n",
       "      <th>D776</th>\n",
       "      <th>D777</th>\n",
       "    </tr>\n",
       "  </thead>\n",
       "  <tbody>\n",
       "    <tr>\n",
       "      <th>0</th>\n",
       "      <td>1.0</td>\n",
       "      <td>0.0</td>\n",
       "      <td>0.0</td>\n",
       "      <td>0.0</td>\n",
       "      <td>1.0</td>\n",
       "      <td>0.0</td>\n",
       "      <td>0.0</td>\n",
       "      <td>0.0</td>\n",
       "      <td>0.0</td>\n",
       "      <td>0.0</td>\n",
       "      <td>...</td>\n",
       "      <td>0.0</td>\n",
       "      <td>0.0</td>\n",
       "      <td>0.0</td>\n",
       "      <td>0.0</td>\n",
       "      <td>0.0</td>\n",
       "      <td>0.0</td>\n",
       "      <td>3.907</td>\n",
       "      <td>-0.108</td>\n",
       "      <td>0.545</td>\n",
       "      <td>1.06</td>\n",
       "    </tr>\n",
       "  </tbody>\n",
       "</table>\n",
       "<p>1 rows × 777 columns</p>\n",
       "</div>"
      ],
      "text/plain": [
       "   D001  D002  D003  D004  D005  D006  D007  D008  D009  D010  ...  D768  \\\n",
       "0   1.0   0.0   0.0   0.0   1.0   0.0   0.0   0.0   0.0   0.0  ...   0.0   \n",
       "\n",
       "   D769  D770  D771  D772  D773   D774   D775   D776  D777  \n",
       "0   0.0   0.0   0.0   0.0   0.0  3.907 -0.108  0.545  1.06  \n",
       "\n",
       "[1 rows x 777 columns]"
      ]
     },
     "execution_count": 156,
     "metadata": {},
     "output_type": "execute_result"
    }
   ],
   "source": [
    "# read output from mold2 gui to compare with results from mold2_pywrapper\n",
    "df_gui = pd.read_csv(\"desc/gui_output.txt\", sep='\\t')\n",
    "df_gui.drop(['ReadIn_ID', 'USER_ID'], inplace=True, axis=1)\n",
    "df_gui = df_gui.astype(float)\n",
    "df_gui = df_gui.round(3)\n",
    "df_gui"
   ]
  },
  {
   "cell_type": "code",
   "execution_count": 157,
   "metadata": {},
   "outputs": [
    {
     "data": {
      "text/html": [
       "<div>\n",
       "<style scoped>\n",
       "    .dataframe tbody tr th:only-of-type {\n",
       "        vertical-align: middle;\n",
       "    }\n",
       "\n",
       "    .dataframe tbody tr th {\n",
       "        vertical-align: top;\n",
       "    }\n",
       "\n",
       "    .dataframe thead th {\n",
       "        text-align: right;\n",
       "    }\n",
       "</style>\n",
       "<table border=\"1\" class=\"dataframe\">\n",
       "  <thead>\n",
       "    <tr style=\"text-align: right;\">\n",
       "      <th></th>\n",
       "      <th>D001</th>\n",
       "      <th>D002</th>\n",
       "      <th>D003</th>\n",
       "      <th>D004</th>\n",
       "      <th>D005</th>\n",
       "      <th>D006</th>\n",
       "      <th>D007</th>\n",
       "      <th>D008</th>\n",
       "      <th>D009</th>\n",
       "      <th>D010</th>\n",
       "      <th>...</th>\n",
       "      <th>D768</th>\n",
       "      <th>D769</th>\n",
       "      <th>D770</th>\n",
       "      <th>D771</th>\n",
       "      <th>D772</th>\n",
       "      <th>D773</th>\n",
       "      <th>D774</th>\n",
       "      <th>D775</th>\n",
       "      <th>D776</th>\n",
       "      <th>D777</th>\n",
       "    </tr>\n",
       "  </thead>\n",
       "  <tbody>\n",
       "    <tr>\n",
       "      <th>0</th>\n",
       "      <td>1.0</td>\n",
       "      <td>0.0</td>\n",
       "      <td>0.0</td>\n",
       "      <td>0.0</td>\n",
       "      <td>1.0</td>\n",
       "      <td>0.0</td>\n",
       "      <td>0.0</td>\n",
       "      <td>0.0</td>\n",
       "      <td>0.0</td>\n",
       "      <td>0.0</td>\n",
       "      <td>...</td>\n",
       "      <td>0.0</td>\n",
       "      <td>0.0</td>\n",
       "      <td>0.0</td>\n",
       "      <td>0.0</td>\n",
       "      <td>0.0</td>\n",
       "      <td>0.0</td>\n",
       "      <td>3.907</td>\n",
       "      <td>-0.108</td>\n",
       "      <td>0.545</td>\n",
       "      <td>1.060</td>\n",
       "    </tr>\n",
       "    <tr>\n",
       "      <th>0</th>\n",
       "      <td>0.0</td>\n",
       "      <td>0.0</td>\n",
       "      <td>0.0</td>\n",
       "      <td>1.0</td>\n",
       "      <td>0.0</td>\n",
       "      <td>0.0</td>\n",
       "      <td>0.0</td>\n",
       "      <td>0.0</td>\n",
       "      <td>0.0</td>\n",
       "      <td>0.0</td>\n",
       "      <td>...</td>\n",
       "      <td>0.0</td>\n",
       "      <td>0.0</td>\n",
       "      <td>0.0</td>\n",
       "      <td>0.0</td>\n",
       "      <td>0.0</td>\n",
       "      <td>0.0</td>\n",
       "      <td>3.807</td>\n",
       "      <td>2.717</td>\n",
       "      <td>0.000</td>\n",
       "      <td>-2.735</td>\n",
       "    </tr>\n",
       "  </tbody>\n",
       "</table>\n",
       "<p>2 rows × 777 columns</p>\n",
       "</div>"
      ],
      "text/plain": [
       "   D001  D002  D003  D004  D005  D006  D007  D008  D009  D010  ...  D768  \\\n",
       "0   1.0   0.0   0.0   0.0   1.0   0.0   0.0   0.0   0.0   0.0  ...   0.0   \n",
       "0   0.0   0.0   0.0   1.0   0.0   0.0   0.0   0.0   0.0   0.0  ...   0.0   \n",
       "\n",
       "   D769  D770  D771  D772  D773   D774   D775   D776   D777  \n",
       "0   0.0   0.0   0.0   0.0   0.0  3.907 -0.108  0.545  1.060  \n",
       "0   0.0   0.0   0.0   0.0   0.0  3.807  2.717  0.000 -2.735  \n",
       "\n",
       "[2 rows x 777 columns]"
      ]
     },
     "execution_count": 157,
     "metadata": {},
     "output_type": "execute_result"
    }
   ],
   "source": [
    "# read second output from mold2 gui to compare with results from mold2_pywrapper\n",
    "df_gui2 = pd.read_csv(\"desc/gui_output_2.txt\", sep='\\t')\n",
    "df_gui2.drop(['ReadIn_ID', 'USER_ID'], inplace=True, axis=1)\n",
    "df_gui2 = df_gui2.astype(float)\n",
    "df_gui2 = df_gui2.round(3)\n",
    "df_gui = pd.concat([df_gui, df_gui2], axis=0)\n",
    "df_gui"
   ]
  },
  {
   "cell_type": "code",
   "execution_count": 158,
   "metadata": {},
   "outputs": [
    {
     "data": {
      "text/plain": [
       "False"
      ]
     },
     "execution_count": 158,
     "metadata": {},
     "output_type": "execute_result"
    }
   ],
   "source": [
    "# check for NaN values\n",
    "df_gui.isnull().values.any()"
   ]
  },
  {
   "cell_type": "code",
   "execution_count": 159,
   "metadata": {},
   "outputs": [
    {
     "data": {
      "text/plain": [
       "0   -0.108\n",
       "0    2.717\n",
       "Name: D775, dtype: float64"
      ]
     },
     "execution_count": 159,
     "metadata": {},
     "output_type": "execute_result"
    }
   ],
   "source": [
    "# compare results from mold2_pywrapper and mold2 gui\n",
    "df_gui['D775']"
   ]
  },
  {
   "cell_type": "code",
   "execution_count": 160,
   "metadata": {},
   "outputs": [
    {
     "data": {
      "text/plain": [
       "0   -0.108\n",
       "1    2.717\n",
       "Name: D775, dtype: float64"
      ]
     },
     "execution_count": 160,
     "metadata": {},
     "output_type": "execute_result"
    }
   ],
   "source": [
    "results['D775']"
   ]
  },
  {
   "cell_type": "code",
   "execution_count": 161,
   "metadata": {},
   "outputs": [
    {
     "data": {
      "text/plain": [
       "False"
      ]
     },
     "execution_count": 161,
     "metadata": {},
     "output_type": "execute_result"
    }
   ],
   "source": [
    "# compare results from mold2_pywrapper and mold2 gui\n",
    "df_gui.equals(results)"
   ]
  },
  {
   "cell_type": "code",
   "execution_count": 196,
   "metadata": {},
   "outputs": [
    {
     "data": {
      "text/plain": [
       "Index(['D151', 'D243', 'D315', 'D415', 'D433', 'D438', 'D465', 'D151', 'D197',\n",
       "       'D210', 'D252', 'D253', 'D318', 'D323', 'D333', 'D440'],\n",
       "      dtype='object')"
      ]
     },
     "execution_count": 196,
     "metadata": {},
     "output_type": "execute_result"
    }
   ],
   "source": [
    "# compare the first rows of the two dataframes\n",
    "check = df_gui.head(1) == results.head(1)\n",
    "\n",
    "# which columns are not equal\n",
    "whichfalse = check[check == False].stack()[0].index\n",
    "whichfalse\n",
    "\n",
    "# compare the second rows of the two dataframes\n",
    "check2 = df_gui.iloc[1] == results.iloc[1]\n",
    "check2 = pd.DataFrame(check2).T\n",
    "whichfalse2 = check2[check2 == False].stack()[0].index\n",
    "whichfalse2\n",
    "\n",
    "whichfalse = whichfalse.append(whichfalse2)\n",
    "whichfalse"
   ]
  },
  {
   "cell_type": "code",
   "execution_count": 197,
   "metadata": {},
   "outputs": [
    {
     "data": {
      "text/html": [
       "<div>\n",
       "<style scoped>\n",
       "    .dataframe tbody tr th:only-of-type {\n",
       "        vertical-align: middle;\n",
       "    }\n",
       "\n",
       "    .dataframe tbody tr th {\n",
       "        vertical-align: top;\n",
       "    }\n",
       "\n",
       "    .dataframe thead th {\n",
       "        text-align: right;\n",
       "    }\n",
       "</style>\n",
       "<table border=\"1\" class=\"dataframe\">\n",
       "  <thead>\n",
       "    <tr style=\"text-align: right;\">\n",
       "      <th></th>\n",
       "      <th>D001</th>\n",
       "      <th>D002</th>\n",
       "      <th>D003</th>\n",
       "      <th>D004</th>\n",
       "      <th>D005</th>\n",
       "      <th>D006</th>\n",
       "      <th>D007</th>\n",
       "      <th>D008</th>\n",
       "      <th>D009</th>\n",
       "      <th>D010</th>\n",
       "      <th>...</th>\n",
       "      <th>D768</th>\n",
       "      <th>D769</th>\n",
       "      <th>D770</th>\n",
       "      <th>D771</th>\n",
       "      <th>D772</th>\n",
       "      <th>D773</th>\n",
       "      <th>D774</th>\n",
       "      <th>D775</th>\n",
       "      <th>D776</th>\n",
       "      <th>D777</th>\n",
       "    </tr>\n",
       "  </thead>\n",
       "  <tbody>\n",
       "    <tr>\n",
       "      <th>0</th>\n",
       "      <td>1.0</td>\n",
       "      <td>0.0</td>\n",
       "      <td>0.0</td>\n",
       "      <td>0.0</td>\n",
       "      <td>1.0</td>\n",
       "      <td>0.0</td>\n",
       "      <td>0.0</td>\n",
       "      <td>0.0</td>\n",
       "      <td>0.0</td>\n",
       "      <td>0.0</td>\n",
       "      <td>...</td>\n",
       "      <td>0.0</td>\n",
       "      <td>0.0</td>\n",
       "      <td>0.0</td>\n",
       "      <td>0.0</td>\n",
       "      <td>0.0</td>\n",
       "      <td>0.0</td>\n",
       "      <td>3.907</td>\n",
       "      <td>-0.108</td>\n",
       "      <td>0.545</td>\n",
       "      <td>1.060</td>\n",
       "    </tr>\n",
       "    <tr>\n",
       "      <th>0</th>\n",
       "      <td>0.0</td>\n",
       "      <td>0.0</td>\n",
       "      <td>0.0</td>\n",
       "      <td>1.0</td>\n",
       "      <td>0.0</td>\n",
       "      <td>0.0</td>\n",
       "      <td>0.0</td>\n",
       "      <td>0.0</td>\n",
       "      <td>0.0</td>\n",
       "      <td>0.0</td>\n",
       "      <td>...</td>\n",
       "      <td>0.0</td>\n",
       "      <td>0.0</td>\n",
       "      <td>0.0</td>\n",
       "      <td>0.0</td>\n",
       "      <td>0.0</td>\n",
       "      <td>0.0</td>\n",
       "      <td>3.807</td>\n",
       "      <td>2.717</td>\n",
       "      <td>0.000</td>\n",
       "      <td>-2.735</td>\n",
       "    </tr>\n",
       "  </tbody>\n",
       "</table>\n",
       "<p>2 rows × 777 columns</p>\n",
       "</div>"
      ],
      "text/plain": [
       "   D001  D002  D003  D004  D005  D006  D007  D008  D009  D010  ...  D768  \\\n",
       "0   1.0   0.0   0.0   0.0   1.0   0.0   0.0   0.0   0.0   0.0  ...   0.0   \n",
       "0   0.0   0.0   0.0   1.0   0.0   0.0   0.0   0.0   0.0   0.0  ...   0.0   \n",
       "\n",
       "   D769  D770  D771  D772  D773   D774   D775   D776   D777  \n",
       "0   0.0   0.0   0.0   0.0   0.0  3.907 -0.108  0.545  1.060  \n",
       "0   0.0   0.0   0.0   0.0   0.0  3.807  2.717  0.000 -2.735  \n",
       "\n",
       "[2 rows x 777 columns]"
      ]
     },
     "execution_count": 197,
     "metadata": {},
     "output_type": "execute_result"
    }
   ],
   "source": [
    "df_gui"
   ]
  },
  {
   "cell_type": "code",
   "execution_count": 198,
   "metadata": {},
   "outputs": [
    {
     "data": {
      "text/html": [
       "<div>\n",
       "<style scoped>\n",
       "    .dataframe tbody tr th:only-of-type {\n",
       "        vertical-align: middle;\n",
       "    }\n",
       "\n",
       "    .dataframe tbody tr th {\n",
       "        vertical-align: top;\n",
       "    }\n",
       "\n",
       "    .dataframe thead th {\n",
       "        text-align: right;\n",
       "    }\n",
       "</style>\n",
       "<table border=\"1\" class=\"dataframe\">\n",
       "  <thead>\n",
       "    <tr style=\"text-align: right;\">\n",
       "      <th></th>\n",
       "      <th>D001</th>\n",
       "      <th>D002</th>\n",
       "      <th>D003</th>\n",
       "      <th>D004</th>\n",
       "      <th>D005</th>\n",
       "      <th>D006</th>\n",
       "      <th>D007</th>\n",
       "      <th>D008</th>\n",
       "      <th>D009</th>\n",
       "      <th>D010</th>\n",
       "      <th>...</th>\n",
       "      <th>D768</th>\n",
       "      <th>D769</th>\n",
       "      <th>D770</th>\n",
       "      <th>D771</th>\n",
       "      <th>D772</th>\n",
       "      <th>D773</th>\n",
       "      <th>D774</th>\n",
       "      <th>D775</th>\n",
       "      <th>D776</th>\n",
       "      <th>D777</th>\n",
       "    </tr>\n",
       "  </thead>\n",
       "  <tbody>\n",
       "    <tr>\n",
       "      <th>0</th>\n",
       "      <td>1.0</td>\n",
       "      <td>0.0</td>\n",
       "      <td>0.0</td>\n",
       "      <td>0.0</td>\n",
       "      <td>1.0</td>\n",
       "      <td>0.0</td>\n",
       "      <td>0.0</td>\n",
       "      <td>0.0</td>\n",
       "      <td>0.0</td>\n",
       "      <td>0.0</td>\n",
       "      <td>...</td>\n",
       "      <td>0.0</td>\n",
       "      <td>0.0</td>\n",
       "      <td>0.0</td>\n",
       "      <td>0.0</td>\n",
       "      <td>0.0</td>\n",
       "      <td>0.0</td>\n",
       "      <td>3.907</td>\n",
       "      <td>-0.108</td>\n",
       "      <td>0.545</td>\n",
       "      <td>1.060</td>\n",
       "    </tr>\n",
       "    <tr>\n",
       "      <th>1</th>\n",
       "      <td>0.0</td>\n",
       "      <td>0.0</td>\n",
       "      <td>0.0</td>\n",
       "      <td>1.0</td>\n",
       "      <td>0.0</td>\n",
       "      <td>0.0</td>\n",
       "      <td>0.0</td>\n",
       "      <td>0.0</td>\n",
       "      <td>0.0</td>\n",
       "      <td>0.0</td>\n",
       "      <td>...</td>\n",
       "      <td>0.0</td>\n",
       "      <td>0.0</td>\n",
       "      <td>0.0</td>\n",
       "      <td>0.0</td>\n",
       "      <td>0.0</td>\n",
       "      <td>0.0</td>\n",
       "      <td>3.807</td>\n",
       "      <td>2.717</td>\n",
       "      <td>0.000</td>\n",
       "      <td>-2.735</td>\n",
       "    </tr>\n",
       "  </tbody>\n",
       "</table>\n",
       "<p>2 rows × 777 columns</p>\n",
       "</div>"
      ],
      "text/plain": [
       "0  D001  D002  D003  D004  D005  D006  D007  D008  D009  D010  ...  D768  \\\n",
       "0   1.0   0.0   0.0   0.0   1.0   0.0   0.0   0.0   0.0   0.0  ...   0.0   \n",
       "1   0.0   0.0   0.0   1.0   0.0   0.0   0.0   0.0   0.0   0.0  ...   0.0   \n",
       "\n",
       "0  D769  D770  D771  D772  D773   D774   D775   D776   D777  \n",
       "0   0.0   0.0   0.0   0.0   0.0  3.907 -0.108  0.545  1.060  \n",
       "1   0.0   0.0   0.0   0.0   0.0  3.807  2.717  0.000 -2.735  \n",
       "\n",
       "[2 rows x 777 columns]"
      ]
     },
     "execution_count": 198,
     "metadata": {},
     "output_type": "execute_result"
    }
   ],
   "source": [
    "results"
   ]
  },
  {
   "cell_type": "code",
   "execution_count": 199,
   "metadata": {},
   "outputs": [
    {
     "data": {
      "text/html": [
       "<div>\n",
       "<style scoped>\n",
       "    .dataframe tbody tr th:only-of-type {\n",
       "        vertical-align: middle;\n",
       "    }\n",
       "\n",
       "    .dataframe tbody tr th {\n",
       "        vertical-align: top;\n",
       "    }\n",
       "\n",
       "    .dataframe thead th {\n",
       "        text-align: right;\n",
       "    }\n",
       "</style>\n",
       "<table border=\"1\" class=\"dataframe\">\n",
       "  <thead>\n",
       "    <tr style=\"text-align: right;\">\n",
       "      <th></th>\n",
       "      <th>D151</th>\n",
       "      <th>D243</th>\n",
       "      <th>D315</th>\n",
       "      <th>D415</th>\n",
       "      <th>D433</th>\n",
       "      <th>D438</th>\n",
       "      <th>D465</th>\n",
       "      <th>D151</th>\n",
       "      <th>D197</th>\n",
       "      <th>D210</th>\n",
       "      <th>D252</th>\n",
       "      <th>D253</th>\n",
       "      <th>D318</th>\n",
       "      <th>D323</th>\n",
       "      <th>D333</th>\n",
       "      <th>D440</th>\n",
       "    </tr>\n",
       "  </thead>\n",
       "  <tbody>\n",
       "    <tr>\n",
       "      <th>0</th>\n",
       "      <td>14.413</td>\n",
       "      <td>5.141</td>\n",
       "      <td>45.527</td>\n",
       "      <td>12.793</td>\n",
       "      <td>39.889</td>\n",
       "      <td>6.175</td>\n",
       "      <td>0.697</td>\n",
       "      <td>14.413</td>\n",
       "      <td>45.930</td>\n",
       "      <td>0.139</td>\n",
       "      <td>2.0</td>\n",
       "      <td>0.629</td>\n",
       "      <td>60.719</td>\n",
       "      <td>0.000</td>\n",
       "      <td>0.000</td>\n",
       "      <td>24.998</td>\n",
       "    </tr>\n",
       "    <tr>\n",
       "      <th>0</th>\n",
       "      <td>13.351</td>\n",
       "      <td>5.833</td>\n",
       "      <td>51.778</td>\n",
       "      <td>15.107</td>\n",
       "      <td>51.246</td>\n",
       "      <td>0.875</td>\n",
       "      <td>0.578</td>\n",
       "      <td>13.351</td>\n",
       "      <td>29.573</td>\n",
       "      <td>0.117</td>\n",
       "      <td>8.0</td>\n",
       "      <td>2.390</td>\n",
       "      <td>99.751</td>\n",
       "      <td>27.421</td>\n",
       "      <td>27.421</td>\n",
       "      <td>19.579</td>\n",
       "    </tr>\n",
       "  </tbody>\n",
       "</table>\n",
       "</div>"
      ],
      "text/plain": [
       "     D151   D243    D315    D415    D433   D438   D465    D151    D197   D210  \\\n",
       "0  14.413  5.141  45.527  12.793  39.889  6.175  0.697  14.413  45.930  0.139   \n",
       "0  13.351  5.833  51.778  15.107  51.246  0.875  0.578  13.351  29.573  0.117   \n",
       "\n",
       "   D252   D253    D318    D323    D333    D440  \n",
       "0   2.0  0.629  60.719   0.000   0.000  24.998  \n",
       "0   8.0  2.390  99.751  27.421  27.421  19.579  "
      ]
     },
     "execution_count": 199,
     "metadata": {},
     "output_type": "execute_result"
    }
   ],
   "source": [
    "df_gui[whichfalse]"
   ]
  },
  {
   "cell_type": "code",
   "execution_count": 200,
   "metadata": {},
   "outputs": [
    {
     "data": {
      "text/html": [
       "<div>\n",
       "<style scoped>\n",
       "    .dataframe tbody tr th:only-of-type {\n",
       "        vertical-align: middle;\n",
       "    }\n",
       "\n",
       "    .dataframe tbody tr th {\n",
       "        vertical-align: top;\n",
       "    }\n",
       "\n",
       "    .dataframe thead th {\n",
       "        text-align: right;\n",
       "    }\n",
       "</style>\n",
       "<table border=\"1\" class=\"dataframe\">\n",
       "  <thead>\n",
       "    <tr style=\"text-align: right;\">\n",
       "      <th></th>\n",
       "      <th>D151</th>\n",
       "      <th>D243</th>\n",
       "      <th>D315</th>\n",
       "      <th>D415</th>\n",
       "      <th>D433</th>\n",
       "      <th>D438</th>\n",
       "      <th>D465</th>\n",
       "      <th>D151</th>\n",
       "      <th>D197</th>\n",
       "      <th>D210</th>\n",
       "      <th>D252</th>\n",
       "      <th>D253</th>\n",
       "      <th>D318</th>\n",
       "      <th>D323</th>\n",
       "      <th>D333</th>\n",
       "      <th>D440</th>\n",
       "    </tr>\n",
       "  </thead>\n",
       "  <tbody>\n",
       "    <tr>\n",
       "      <th>0</th>\n",
       "      <td>14.414</td>\n",
       "      <td>5.140</td>\n",
       "      <td>45.526</td>\n",
       "      <td>12.794</td>\n",
       "      <td>39.890</td>\n",
       "      <td>6.176</td>\n",
       "      <td>0.698</td>\n",
       "      <td>14.414</td>\n",
       "      <td>45.930</td>\n",
       "      <td>0.139</td>\n",
       "      <td>2.0</td>\n",
       "      <td>0.629</td>\n",
       "      <td>60.719</td>\n",
       "      <td>0.00</td>\n",
       "      <td>0.00</td>\n",
       "      <td>24.998</td>\n",
       "    </tr>\n",
       "    <tr>\n",
       "      <th>1</th>\n",
       "      <td>13.352</td>\n",
       "      <td>5.833</td>\n",
       "      <td>51.778</td>\n",
       "      <td>15.107</td>\n",
       "      <td>51.246</td>\n",
       "      <td>0.875</td>\n",
       "      <td>0.578</td>\n",
       "      <td>13.352</td>\n",
       "      <td>29.572</td>\n",
       "      <td>0.118</td>\n",
       "      <td>7.0</td>\n",
       "      <td>2.091</td>\n",
       "      <td>99.750</td>\n",
       "      <td>26.56</td>\n",
       "      <td>26.56</td>\n",
       "      <td>19.578</td>\n",
       "    </tr>\n",
       "  </tbody>\n",
       "</table>\n",
       "</div>"
      ],
      "text/plain": [
       "0    D151   D243    D315    D415    D433   D438   D465    D151    D197   D210  \\\n",
       "0  14.414  5.140  45.526  12.794  39.890  6.176  0.698  14.414  45.930  0.139   \n",
       "1  13.352  5.833  51.778  15.107  51.246  0.875  0.578  13.352  29.572  0.118   \n",
       "\n",
       "0  D252   D253    D318   D323   D333    D440  \n",
       "0   2.0  0.629  60.719   0.00   0.00  24.998  \n",
       "1   7.0  2.091  99.750  26.56  26.56  19.578  "
      ]
     },
     "execution_count": 200,
     "metadata": {},
     "output_type": "execute_result"
    }
   ],
   "source": [
    "results[whichfalse]"
   ]
  },
  {
   "attachments": {},
   "cell_type": "markdown",
   "metadata": {},
   "source": [
    "The wrapper does the calculation up to 6 decimal places whilst the gui does it up to 3. Rounding the values to 3 decimal places in the wrapper gives very similar results to the gui.  \n",
    "The difference is basically negigible as seen above.  \n",
    "The two compounds used were acetaminophin and vitamin C"
   ]
  },
  {
   "attachments": {},
   "cell_type": "markdown",
   "metadata": {},
   "source": [
    "## Backend\n",
    "\n",
    "The backend logic that will be used for the web app is described below.\n",
    "\n",
    "1. User inputs a SMILES string\n",
    "2. Molecular Descriptors are generated using Mold2\n",
    "3. The descriptors are stored in a database\n",
    "4. The mask is used to reduce the number of descriptors\n",
    "5. The new descriptors are passed to the model\n",
    "6. The model returns a prediction, the activity and the confidence\n",
    "7. The prediction is stored in the database\n",
    "8. The prediction is returned to the user\n",
    "\n",
    "## Frontend\n",
    "\n",
    "The frontend logic that will be used for the web app is described below.\n",
    "\n",
    "1. User inputs a SMILES string\n",
    "2. The SMILES string is passed to the backend\n",
    "3. The prediction is returned to the user"
   ]
  },
  {
   "cell_type": "code",
   "execution_count": null,
   "metadata": {},
   "outputs": [],
   "source": []
  }
 ],
 "metadata": {
  "kernelspec": {
   "display_name": "covid-19-ml",
   "language": "python",
   "name": "python3"
  },
  "language_info": {
   "codemirror_mode": {
    "name": "ipython",
    "version": 3
   },
   "file_extension": ".py",
   "mimetype": "text/x-python",
   "name": "python",
   "nbconvert_exporter": "python",
   "pygments_lexer": "ipython3",
   "version": "3.8.16"
  },
  "orig_nbformat": 4
 },
 "nbformat": 4,
 "nbformat_minor": 2
}
